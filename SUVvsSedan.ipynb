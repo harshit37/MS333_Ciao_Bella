{
  "nbformat": 4,
  "nbformat_minor": 0,
  "metadata": {
    "colab": {
      "name": "SUVvsSedan.ipynb",
      "provenance": [],
      "collapsed_sections": [],
      "toc_visible": true
    },
    "kernelspec": {
      "name": "python3",
      "display_name": "Python 3"
    },
    "accelerator": "GPU",
    "widgets": {
      "application/vnd.jupyter.widget-state+json": {
        "a32586462478407bbb5454c58a933918": {
          "model_module": "@jupyter-widgets/controls",
          "model_name": "HBoxModel",
          "state": {
            "_view_name": "HBoxView",
            "_dom_classes": [],
            "_model_name": "HBoxModel",
            "_view_module": "@jupyter-widgets/controls",
            "_model_module_version": "1.5.0",
            "_view_count": null,
            "_view_module_version": "1.5.0",
            "box_style": "",
            "layout": "IPY_MODEL_62653c9af83844d88481416d7c48719a",
            "_model_module": "@jupyter-widgets/controls",
            "children": [
              "IPY_MODEL_aed59f4ae0e942cb91f7f6bd5810871f",
              "IPY_MODEL_f0617814089f4220b5d6efcc5dbf3db9"
            ]
          }
        },
        "62653c9af83844d88481416d7c48719a": {
          "model_module": "@jupyter-widgets/base",
          "model_name": "LayoutModel",
          "state": {
            "_view_name": "LayoutView",
            "grid_template_rows": null,
            "right": null,
            "justify_content": null,
            "_view_module": "@jupyter-widgets/base",
            "overflow": null,
            "_model_module_version": "1.2.0",
            "_view_count": null,
            "flex_flow": null,
            "width": null,
            "min_width": null,
            "border": null,
            "align_items": null,
            "bottom": null,
            "_model_module": "@jupyter-widgets/base",
            "top": null,
            "grid_column": null,
            "overflow_y": null,
            "overflow_x": null,
            "grid_auto_flow": null,
            "grid_area": null,
            "grid_template_columns": null,
            "flex": null,
            "_model_name": "LayoutModel",
            "justify_items": null,
            "grid_row": null,
            "max_height": null,
            "align_content": null,
            "visibility": null,
            "align_self": null,
            "height": null,
            "min_height": null,
            "padding": null,
            "grid_auto_rows": null,
            "grid_gap": null,
            "max_width": null,
            "order": null,
            "_view_module_version": "1.2.0",
            "grid_template_areas": null,
            "object_position": null,
            "object_fit": null,
            "grid_auto_columns": null,
            "margin": null,
            "display": null,
            "left": null
          }
        },
        "aed59f4ae0e942cb91f7f6bd5810871f": {
          "model_module": "@jupyter-widgets/controls",
          "model_name": "FloatProgressModel",
          "state": {
            "_view_name": "ProgressView",
            "style": "IPY_MODEL_fe7956eb7e1e4147a61afbc5a4d840f2",
            "_dom_classes": [],
            "description": "100%",
            "_model_name": "FloatProgressModel",
            "bar_style": "success",
            "max": 46827520,
            "_view_module": "@jupyter-widgets/controls",
            "_model_module_version": "1.5.0",
            "value": 46827520,
            "_view_count": null,
            "_view_module_version": "1.5.0",
            "orientation": "horizontal",
            "min": 0,
            "description_tooltip": null,
            "_model_module": "@jupyter-widgets/controls",
            "layout": "IPY_MODEL_7f4f61d75adc4f998dd448174541b8fc"
          }
        },
        "f0617814089f4220b5d6efcc5dbf3db9": {
          "model_module": "@jupyter-widgets/controls",
          "model_name": "HTMLModel",
          "state": {
            "_view_name": "HTMLView",
            "style": "IPY_MODEL_65e0e12646654f26b97082f28c46293b",
            "_dom_classes": [],
            "description": "",
            "_model_name": "HTMLModel",
            "placeholder": "​",
            "_view_module": "@jupyter-widgets/controls",
            "_model_module_version": "1.5.0",
            "value": " 44.7M/44.7M [10:18&lt;00:00, 75.7kB/s]",
            "_view_count": null,
            "_view_module_version": "1.5.0",
            "description_tooltip": null,
            "_model_module": "@jupyter-widgets/controls",
            "layout": "IPY_MODEL_0611476cb56c46c8ba2397d0265648b7"
          }
        },
        "fe7956eb7e1e4147a61afbc5a4d840f2": {
          "model_module": "@jupyter-widgets/controls",
          "model_name": "ProgressStyleModel",
          "state": {
            "_view_name": "StyleView",
            "_model_name": "ProgressStyleModel",
            "description_width": "initial",
            "_view_module": "@jupyter-widgets/base",
            "_model_module_version": "1.5.0",
            "_view_count": null,
            "_view_module_version": "1.2.0",
            "bar_color": null,
            "_model_module": "@jupyter-widgets/controls"
          }
        },
        "7f4f61d75adc4f998dd448174541b8fc": {
          "model_module": "@jupyter-widgets/base",
          "model_name": "LayoutModel",
          "state": {
            "_view_name": "LayoutView",
            "grid_template_rows": null,
            "right": null,
            "justify_content": null,
            "_view_module": "@jupyter-widgets/base",
            "overflow": null,
            "_model_module_version": "1.2.0",
            "_view_count": null,
            "flex_flow": null,
            "width": null,
            "min_width": null,
            "border": null,
            "align_items": null,
            "bottom": null,
            "_model_module": "@jupyter-widgets/base",
            "top": null,
            "grid_column": null,
            "overflow_y": null,
            "overflow_x": null,
            "grid_auto_flow": null,
            "grid_area": null,
            "grid_template_columns": null,
            "flex": null,
            "_model_name": "LayoutModel",
            "justify_items": null,
            "grid_row": null,
            "max_height": null,
            "align_content": null,
            "visibility": null,
            "align_self": null,
            "height": null,
            "min_height": null,
            "padding": null,
            "grid_auto_rows": null,
            "grid_gap": null,
            "max_width": null,
            "order": null,
            "_view_module_version": "1.2.0",
            "grid_template_areas": null,
            "object_position": null,
            "object_fit": null,
            "grid_auto_columns": null,
            "margin": null,
            "display": null,
            "left": null
          }
        },
        "65e0e12646654f26b97082f28c46293b": {
          "model_module": "@jupyter-widgets/controls",
          "model_name": "DescriptionStyleModel",
          "state": {
            "_view_name": "StyleView",
            "_model_name": "DescriptionStyleModel",
            "description_width": "",
            "_view_module": "@jupyter-widgets/base",
            "_model_module_version": "1.5.0",
            "_view_count": null,
            "_view_module_version": "1.2.0",
            "_model_module": "@jupyter-widgets/controls"
          }
        },
        "0611476cb56c46c8ba2397d0265648b7": {
          "model_module": "@jupyter-widgets/base",
          "model_name": "LayoutModel",
          "state": {
            "_view_name": "LayoutView",
            "grid_template_rows": null,
            "right": null,
            "justify_content": null,
            "_view_module": "@jupyter-widgets/base",
            "overflow": null,
            "_model_module_version": "1.2.0",
            "_view_count": null,
            "flex_flow": null,
            "width": null,
            "min_width": null,
            "border": null,
            "align_items": null,
            "bottom": null,
            "_model_module": "@jupyter-widgets/base",
            "top": null,
            "grid_column": null,
            "overflow_y": null,
            "overflow_x": null,
            "grid_auto_flow": null,
            "grid_area": null,
            "grid_template_columns": null,
            "flex": null,
            "_model_name": "LayoutModel",
            "justify_items": null,
            "grid_row": null,
            "max_height": null,
            "align_content": null,
            "visibility": null,
            "align_self": null,
            "height": null,
            "min_height": null,
            "padding": null,
            "grid_auto_rows": null,
            "grid_gap": null,
            "max_width": null,
            "order": null,
            "_view_module_version": "1.2.0",
            "grid_template_areas": null,
            "object_position": null,
            "object_fit": null,
            "grid_auto_columns": null,
            "margin": null,
            "display": null,
            "left": null
          }
        }
      }
    }
  },
  "cells": [
    {
      "cell_type": "code",
      "metadata": {
        "id": "b_DtVQxY5qpr",
        "colab_type": "code",
        "colab": {}
      },
      "source": [
        "import os\n",
        "os.chdir(\"/content/drive/My Drive/Aug/\")"
      ],
      "execution_count": 17,
      "outputs": []
    },
    {
      "cell_type": "code",
      "metadata": {
        "id": "S3dnp7zAzQaJ",
        "colab_type": "code",
        "colab": {
          "base_uri": "https://localhost:8080/",
          "height": 1000
        },
        "outputId": "24d97231-6a82-41a5-fb90-4e46767f2d9b"
      },
      "source": [
        "!python Model.py"
      ],
      "execution_count": 13,
      "outputs": [
        {
          "output_type": "stream",
          "text": [
            "2020-08-02 06:52:28.718364: I tensorflow/stream_executor/platform/default/dso_loader.cc:44] Successfully opened dynamic library libcudart.so.10.1\n",
            "2020-08-02 06:52:30.800365: I tensorflow/stream_executor/platform/default/dso_loader.cc:44] Successfully opened dynamic library libcuda.so.1\n",
            "2020-08-02 06:52:30.803565: E tensorflow/stream_executor/cuda/cuda_driver.cc:313] failed call to cuInit: CUDA_ERROR_NO_DEVICE: no CUDA-capable device is detected\n",
            "2020-08-02 06:52:30.803615: I tensorflow/stream_executor/cuda/cuda_diagnostics.cc:156] kernel driver does not appear to be running on this host (71ddc0d2c6b3): /proc/driver/nvidia/version does not exist\n",
            "2020-08-02 06:52:30.809956: I tensorflow/core/platform/profile_utils/cpu_utils.cc:102] CPU Frequency: 2200000000 Hz\n",
            "2020-08-02 06:52:30.810257: I tensorflow/compiler/xla/service/service.cc:168] XLA service 0x2378bc0 initialized for platform Host (this does not guarantee that XLA will be used). Devices:\n",
            "2020-08-02 06:52:30.810297: I tensorflow/compiler/xla/service/service.cc:176]   StreamExecutor device (0): Host, Default Version\n",
            "Model: \"model\"\n",
            "_________________________________________________________________\n",
            "Layer (type)                 Output Shape              Param #   \n",
            "=================================================================\n",
            "input_1 (InputLayer)         [(None, None, None, 3)]   0         \n",
            "_________________________________________________________________\n",
            "conv2d (Conv2D)              (None, None, None, 32)    4736      \n",
            "_________________________________________________________________\n",
            "leaky_re_lu (LeakyReLU)      (None, None, None, 32)    0         \n",
            "_________________________________________________________________\n",
            "conv2d_1 (Conv2D)            (None, None, None, 64)    18496     \n",
            "_________________________________________________________________\n",
            "batch_normalization (BatchNo (None, None, None, 64)    256       \n",
            "_________________________________________________________________\n",
            "leaky_re_lu_1 (LeakyReLU)    (None, None, None, 64)    0         \n",
            "_________________________________________________________________\n",
            "conv2d_2 (Conv2D)            (None, None, None, 64)    36928     \n",
            "_________________________________________________________________\n",
            "batch_normalization_1 (Batch (None, None, None, 64)    256       \n",
            "_________________________________________________________________\n",
            "leaky_re_lu_2 (LeakyReLU)    (None, None, None, 64)    0         \n",
            "_________________________________________________________________\n",
            "conv2d_3 (Conv2D)            (None, None, None, 64)    36928     \n",
            "_________________________________________________________________\n",
            "batch_normalization_2 (Batch (None, None, None, 64)    256       \n",
            "_________________________________________________________________\n",
            "leaky_re_lu_3 (LeakyReLU)    (None, None, None, 64)    0         \n",
            "_________________________________________________________________\n",
            "conv2d_4 (Conv2D)            (None, None, None, 128)   73856     \n",
            "_________________________________________________________________\n",
            "batch_normalization_3 (Batch (None, None, None, 128)   512       \n",
            "_________________________________________________________________\n",
            "leaky_re_lu_4 (LeakyReLU)    (None, None, None, 128)   0         \n",
            "_________________________________________________________________\n",
            "conv2d_5 (Conv2D)            (None, None, None, 128)   147584    \n",
            "_________________________________________________________________\n",
            "batch_normalization_4 (Batch (None, None, None, 128)   512       \n",
            "_________________________________________________________________\n",
            "leaky_re_lu_5 (LeakyReLU)    (None, None, None, 128)   0         \n",
            "_________________________________________________________________\n",
            "conv2d_6 (Conv2D)            (None, None, None, 128)   147584    \n",
            "_________________________________________________________________\n",
            "batch_normalization_5 (Batch (None, None, None, 128)   512       \n",
            "_________________________________________________________________\n",
            "leaky_re_lu_6 (LeakyReLU)    (None, None, None, 128)   0         \n",
            "_________________________________________________________________\n",
            "conv2d_7 (Conv2D)            (None, None, None, 256)   295168    \n",
            "_________________________________________________________________\n",
            "batch_normalization_6 (Batch (None, None, None, 256)   1024      \n",
            "_________________________________________________________________\n",
            "leaky_re_lu_7 (LeakyReLU)    (None, None, None, 256)   0         \n",
            "_________________________________________________________________\n",
            "conv2d_8 (Conv2D)            (None, None, None, 256)   590080    \n",
            "_________________________________________________________________\n",
            "batch_normalization_7 (Batch (None, None, None, 256)   1024      \n",
            "_________________________________________________________________\n",
            "leaky_re_lu_8 (LeakyReLU)    (None, None, None, 256)   0         \n",
            "_________________________________________________________________\n",
            "conv2d_9 (Conv2D)            (None, None, None, 256)   590080    \n",
            "_________________________________________________________________\n",
            "batch_normalization_8 (Batch (None, None, None, 256)   1024      \n",
            "_________________________________________________________________\n",
            "leaky_re_lu_9 (LeakyReLU)    (None, None, None, 256)   0         \n",
            "_________________________________________________________________\n",
            "conv2d_10 (Conv2D)           (None, None, None, 512)   1180160   \n",
            "_________________________________________________________________\n",
            "batch_normalization_9 (Batch (None, None, None, 512)   2048      \n",
            "_________________________________________________________________\n",
            "leaky_re_lu_10 (LeakyReLU)   (None, None, None, 512)   0         \n",
            "_________________________________________________________________\n",
            "conv2d_11 (Conv2D)           (None, None, None, 512)   2359808   \n",
            "_________________________________________________________________\n",
            "batch_normalization_10 (Batc (None, None, None, 512)   2048      \n",
            "_________________________________________________________________\n",
            "leaky_re_lu_11 (LeakyReLU)   (None, None, None, 512)   0         \n",
            "_________________________________________________________________\n",
            "conv2d_12 (Conv2D)           (None, None, None, 512)   2359808   \n",
            "_________________________________________________________________\n",
            "batch_normalization_11 (Batc (None, None, None, 512)   2048      \n",
            "_________________________________________________________________\n",
            "leaky_re_lu_12 (LeakyReLU)   (None, None, None, 512)   0         \n",
            "_________________________________________________________________\n",
            "conv2d_13 (Conv2D)           (None, None, None, 512)   2359808   \n",
            "_________________________________________________________________\n",
            "batch_normalization_12 (Batc (None, None, None, 512)   2048      \n",
            "_________________________________________________________________\n",
            "leaky_re_lu_13 (LeakyReLU)   (None, None, None, 512)   0         \n",
            "_________________________________________________________________\n",
            "reshape (Reshape)            (None, 8192)              0         \n",
            "_________________________________________________________________\n",
            "dense (Dense)                (None, 256)               2097408   \n",
            "_________________________________________________________________\n",
            "dense_1 (Dense)              (None, 1)                 257       \n",
            "=================================================================\n",
            "Total params: 12,312,257\n",
            "Trainable params: 12,305,473\n",
            "Non-trainable params: 6,784\n",
            "_________________________________________________________________\n"
          ],
          "name": "stdout"
        }
      ]
    },
    {
      "cell_type": "code",
      "metadata": {
        "id": "xWQy5b3B5hRI",
        "colab_type": "code",
        "colab": {
          "base_uri": "https://localhost:8080/",
          "height": 1000
        },
        "outputId": "f291ef9a-edf7-4960-95dd-f772eb4e0e7e"
      },
      "source": [
        "import os\n",
        "os.chdir(\"/content/drive/My Drive/Aug/\")\n",
        "!python3 training.py"
      ],
      "execution_count": null,
      "outputs": [
        {
          "output_type": "stream",
          "text": [
            "2020-08-02 06:59:00.014849: I tensorflow/stream_executor/platform/default/dso_loader.cc:44] Successfully opened dynamic library libcudart.so.10.1\n",
            "2020-08-02 06:59:02.481514: I tensorflow/stream_executor/platform/default/dso_loader.cc:44] Successfully opened dynamic library libcuda.so.1\n",
            "2020-08-02 06:59:02.484599: E tensorflow/stream_executor/cuda/cuda_driver.cc:313] failed call to cuInit: CUDA_ERROR_NO_DEVICE: no CUDA-capable device is detected\n",
            "2020-08-02 06:59:02.484640: I tensorflow/stream_executor/cuda/cuda_diagnostics.cc:156] kernel driver does not appear to be running on this host (71ddc0d2c6b3): /proc/driver/nvidia/version does not exist\n",
            "2020-08-02 06:59:02.491416: I tensorflow/core/platform/profile_utils/cpu_utils.cc:102] CPU Frequency: 2200000000 Hz\n",
            "2020-08-02 06:59:02.491652: I tensorflow/compiler/xla/service/service.cc:168] XLA service 0x2d3ef40 initialized for platform Host (this does not guarantee that XLA will be used). Devices:\n",
            "2020-08-02 06:59:02.491689: I tensorflow/compiler/xla/service/service.cc:176]   StreamExecutor device (0): Host, Default Version\n",
            "Model: \"model\"\n",
            "_________________________________________________________________\n",
            "Layer (type)                 Output Shape              Param #   \n",
            "=================================================================\n",
            "input_1 (InputLayer)         [(None, None, None, 3)]   0         \n",
            "_________________________________________________________________\n",
            "conv2d (Conv2D)              (None, None, None, 32)    4736      \n",
            "_________________________________________________________________\n",
            "leaky_re_lu (LeakyReLU)      (None, None, None, 32)    0         \n",
            "_________________________________________________________________\n",
            "conv2d_1 (Conv2D)            (None, None, None, 64)    18496     \n",
            "_________________________________________________________________\n",
            "batch_normalization (BatchNo (None, None, None, 64)    256       \n",
            "_________________________________________________________________\n",
            "leaky_re_lu_1 (LeakyReLU)    (None, None, None, 64)    0         \n",
            "_________________________________________________________________\n",
            "conv2d_2 (Conv2D)            (None, None, None, 64)    36928     \n",
            "_________________________________________________________________\n",
            "batch_normalization_1 (Batch (None, None, None, 64)    256       \n",
            "_________________________________________________________________\n",
            "leaky_re_lu_2 (LeakyReLU)    (None, None, None, 64)    0         \n",
            "_________________________________________________________________\n",
            "conv2d_3 (Conv2D)            (None, None, None, 64)    36928     \n",
            "_________________________________________________________________\n",
            "batch_normalization_2 (Batch (None, None, None, 64)    256       \n",
            "_________________________________________________________________\n",
            "leaky_re_lu_3 (LeakyReLU)    (None, None, None, 64)    0         \n",
            "_________________________________________________________________\n",
            "conv2d_4 (Conv2D)            (None, None, None, 128)   73856     \n",
            "_________________________________________________________________\n",
            "batch_normalization_3 (Batch (None, None, None, 128)   512       \n",
            "_________________________________________________________________\n",
            "leaky_re_lu_4 (LeakyReLU)    (None, None, None, 128)   0         \n",
            "_________________________________________________________________\n",
            "conv2d_5 (Conv2D)            (None, None, None, 128)   147584    \n",
            "_________________________________________________________________\n",
            "batch_normalization_4 (Batch (None, None, None, 128)   512       \n",
            "_________________________________________________________________\n",
            "leaky_re_lu_5 (LeakyReLU)    (None, None, None, 128)   0         \n",
            "_________________________________________________________________\n",
            "conv2d_6 (Conv2D)            (None, None, None, 128)   147584    \n",
            "_________________________________________________________________\n",
            "batch_normalization_5 (Batch (None, None, None, 128)   512       \n",
            "_________________________________________________________________\n",
            "leaky_re_lu_6 (LeakyReLU)    (None, None, None, 128)   0         \n",
            "_________________________________________________________________\n",
            "conv2d_7 (Conv2D)            (None, None, None, 256)   295168    \n",
            "_________________________________________________________________\n",
            "batch_normalization_6 (Batch (None, None, None, 256)   1024      \n",
            "_________________________________________________________________\n",
            "leaky_re_lu_7 (LeakyReLU)    (None, None, None, 256)   0         \n",
            "_________________________________________________________________\n",
            "conv2d_8 (Conv2D)            (None, None, None, 256)   590080    \n",
            "_________________________________________________________________\n",
            "batch_normalization_7 (Batch (None, None, None, 256)   1024      \n",
            "_________________________________________________________________\n",
            "leaky_re_lu_8 (LeakyReLU)    (None, None, None, 256)   0         \n",
            "_________________________________________________________________\n",
            "conv2d_9 (Conv2D)            (None, None, None, 256)   590080    \n",
            "_________________________________________________________________\n",
            "batch_normalization_8 (Batch (None, None, None, 256)   1024      \n",
            "_________________________________________________________________\n",
            "leaky_re_lu_9 (LeakyReLU)    (None, None, None, 256)   0         \n",
            "_________________________________________________________________\n",
            "conv2d_10 (Conv2D)           (None, None, None, 512)   1180160   \n",
            "_________________________________________________________________\n",
            "batch_normalization_9 (Batch (None, None, None, 512)   2048      \n",
            "_________________________________________________________________\n",
            "leaky_re_lu_10 (LeakyReLU)   (None, None, None, 512)   0         \n",
            "_________________________________________________________________\n",
            "conv2d_11 (Conv2D)           (None, None, None, 512)   2359808   \n",
            "_________________________________________________________________\n",
            "batch_normalization_10 (Batc (None, None, None, 512)   2048      \n",
            "_________________________________________________________________\n",
            "leaky_re_lu_11 (LeakyReLU)   (None, None, None, 512)   0         \n",
            "_________________________________________________________________\n",
            "conv2d_12 (Conv2D)           (None, None, None, 512)   2359808   \n",
            "_________________________________________________________________\n",
            "batch_normalization_11 (Batc (None, None, None, 512)   2048      \n",
            "_________________________________________________________________\n",
            "leaky_re_lu_12 (LeakyReLU)   (None, None, None, 512)   0         \n",
            "_________________________________________________________________\n",
            "conv2d_13 (Conv2D)           (None, None, None, 512)   2359808   \n",
            "_________________________________________________________________\n",
            "batch_normalization_12 (Batc (None, None, None, 512)   2048      \n",
            "_________________________________________________________________\n",
            "leaky_re_lu_13 (LeakyReLU)   (None, None, None, 512)   0         \n",
            "_________________________________________________________________\n",
            "reshape (Reshape)            (None, 8192)              0         \n",
            "_________________________________________________________________\n",
            "dense (Dense)                (None, 256)               2097408   \n",
            "_________________________________________________________________\n",
            "dense_1 (Dense)              (None, 1)                 257       \n",
            "=================================================================\n",
            "Total params: 12,312,257\n",
            "Trainable params: 12,305,473\n",
            "Non-trainable params: 6,784\n",
            "_________________________________________________________________\n",
            "2568\n",
            "Model: \"model_1\"\n",
            "_________________________________________________________________\n",
            "Layer (type)                 Output Shape              Param #   \n",
            "=================================================================\n",
            "input_2 (InputLayer)         [(None, None, None, 3)]   0         \n",
            "_________________________________________________________________\n",
            "conv2d_14 (Conv2D)           (None, None, None, 32)    4736      \n",
            "_________________________________________________________________\n",
            "leaky_re_lu_14 (LeakyReLU)   (None, None, None, 32)    0         \n",
            "_________________________________________________________________\n",
            "conv2d_15 (Conv2D)           (None, None, None, 64)    18496     \n",
            "_________________________________________________________________\n",
            "batch_normalization_13 (Batc (None, None, None, 64)    256       \n",
            "_________________________________________________________________\n",
            "leaky_re_lu_15 (LeakyReLU)   (None, None, None, 64)    0         \n",
            "_________________________________________________________________\n",
            "conv2d_16 (Conv2D)           (None, None, None, 64)    36928     \n",
            "_________________________________________________________________\n",
            "batch_normalization_14 (Batc (None, None, None, 64)    256       \n",
            "_________________________________________________________________\n",
            "leaky_re_lu_16 (LeakyReLU)   (None, None, None, 64)    0         \n",
            "_________________________________________________________________\n",
            "conv2d_17 (Conv2D)           (None, None, None, 64)    36928     \n",
            "_________________________________________________________________\n",
            "batch_normalization_15 (Batc (None, None, None, 64)    256       \n",
            "_________________________________________________________________\n",
            "leaky_re_lu_17 (LeakyReLU)   (None, None, None, 64)    0         \n",
            "_________________________________________________________________\n",
            "conv2d_18 (Conv2D)           (None, None, None, 128)   73856     \n",
            "_________________________________________________________________\n",
            "batch_normalization_16 (Batc (None, None, None, 128)   512       \n",
            "_________________________________________________________________\n",
            "leaky_re_lu_18 (LeakyReLU)   (None, None, None, 128)   0         \n",
            "_________________________________________________________________\n",
            "conv2d_19 (Conv2D)           (None, None, None, 128)   147584    \n",
            "_________________________________________________________________\n",
            "batch_normalization_17 (Batc (None, None, None, 128)   512       \n",
            "_________________________________________________________________\n",
            "leaky_re_lu_19 (LeakyReLU)   (None, None, None, 128)   0         \n",
            "_________________________________________________________________\n",
            "conv2d_20 (Conv2D)           (None, None, None, 128)   147584    \n",
            "_________________________________________________________________\n",
            "batch_normalization_18 (Batc (None, None, None, 128)   512       \n",
            "_________________________________________________________________\n",
            "leaky_re_lu_20 (LeakyReLU)   (None, None, None, 128)   0         \n",
            "_________________________________________________________________\n",
            "conv2d_21 (Conv2D)           (None, None, None, 256)   295168    \n",
            "_________________________________________________________________\n",
            "batch_normalization_19 (Batc (None, None, None, 256)   1024      \n",
            "_________________________________________________________________\n",
            "leaky_re_lu_21 (LeakyReLU)   (None, None, None, 256)   0         \n",
            "_________________________________________________________________\n",
            "conv2d_22 (Conv2D)           (None, None, None, 256)   590080    \n",
            "_________________________________________________________________\n",
            "batch_normalization_20 (Batc (None, None, None, 256)   1024      \n",
            "_________________________________________________________________\n",
            "leaky_re_lu_22 (LeakyReLU)   (None, None, None, 256)   0         \n",
            "_________________________________________________________________\n",
            "conv2d_23 (Conv2D)           (None, None, None, 256)   590080    \n",
            "_________________________________________________________________\n",
            "batch_normalization_21 (Batc (None, None, None, 256)   1024      \n",
            "_________________________________________________________________\n",
            "leaky_re_lu_23 (LeakyReLU)   (None, None, None, 256)   0         \n",
            "_________________________________________________________________\n",
            "conv2d_24 (Conv2D)           (None, None, None, 512)   1180160   \n",
            "_________________________________________________________________\n",
            "batch_normalization_22 (Batc (None, None, None, 512)   2048      \n",
            "_________________________________________________________________\n",
            "leaky_re_lu_24 (LeakyReLU)   (None, None, None, 512)   0         \n",
            "_________________________________________________________________\n",
            "conv2d_25 (Conv2D)           (None, None, None, 512)   2359808   \n",
            "_________________________________________________________________\n",
            "batch_normalization_23 (Batc (None, None, None, 512)   2048      \n",
            "_________________________________________________________________\n",
            "leaky_re_lu_25 (LeakyReLU)   (None, None, None, 512)   0         \n",
            "_________________________________________________________________\n",
            "conv2d_26 (Conv2D)           (None, None, None, 512)   2359808   \n",
            "_________________________________________________________________\n",
            "batch_normalization_24 (Batc (None, None, None, 512)   2048      \n",
            "_________________________________________________________________\n",
            "leaky_re_lu_26 (LeakyReLU)   (None, None, None, 512)   0         \n",
            "_________________________________________________________________\n",
            "conv2d_27 (Conv2D)           (None, None, None, 512)   2359808   \n",
            "_________________________________________________________________\n",
            "batch_normalization_25 (Batc (None, None, None, 512)   2048      \n",
            "_________________________________________________________________\n",
            "leaky_re_lu_27 (LeakyReLU)   (None, None, None, 512)   0         \n",
            "_________________________________________________________________\n",
            "reshape_1 (Reshape)          (None, 8192)              0         \n",
            "_________________________________________________________________\n",
            "dense_2 (Dense)              (None, 256)               2097408   \n",
            "_________________________________________________________________\n",
            "dense_3 (Dense)              (None, 1)                 257       \n",
            "=================================================================\n",
            "Total params: 12,312,257\n",
            "Trainable params: 12,305,473\n",
            "Non-trainable params: 6,784\n",
            "_________________________________________________________________\n",
            "EPOCH : 0\n",
            "Loss =  0.7593618159324282\n",
            "Accuracy =  0.5478971962616822\n",
            "EPOCH : 1\n",
            "Loss =  0.7182243310047076\n",
            "Accuracy =  0.5268691588785047\n",
            "EPOCH : 2\n",
            "Loss =  0.6913526636835571\n",
            "Accuracy =  0.5268691588785047\n",
            "EPOCH : 3\n",
            "Loss =  0.7261138187679983\n",
            "Accuracy =  0.5233644859813084\n",
            "EPOCH : 4\n",
            "Loss =  0.6999859718549301\n",
            "Accuracy =  0.49805295950155765\n",
            "EPOCH : 5\n",
            "Loss =  0.7019223345717781\n",
            "Accuracy =  0.5097352024922118\n",
            "EPOCH : 6\n",
            "Loss =  0.6951474955659418\n",
            "Accuracy =  0.492601246105919\n",
            "EPOCH : 7\n",
            "Loss =  0.6931005713306484\n",
            "Accuracy =  0.508177570093458\n",
            "EPOCH : 8\n",
            "Loss =  0.6930806495458166\n",
            "Accuracy =  0.508177570093458\n",
            "EPOCH : 9\n",
            "Loss =  0.6930698458325826\n",
            "Accuracy =  0.508177570093458\n",
            "EPOCH : 10\n",
            "Loss =  0.6930642527211863\n",
            "Accuracy =  0.508177570093458\n",
            "EPOCH : 11\n",
            "Loss =  0.6930615792161208\n",
            "Accuracy =  0.508177570093458\n",
            "EPOCH : 12\n",
            "Loss =  0.6930605017136191\n",
            "Accuracy =  0.508177570093458\n",
            "EPOCH : 13\n",
            "Loss =  0.6930602611828816\n",
            "Accuracy =  0.508177570093458\n",
            "EPOCH : 14\n",
            "Loss =  0.6930604298306031\n",
            "Accuracy =  0.508177570093458\n",
            "EPOCH : 15\n",
            "Loss =  0.6930607728126265\n",
            "Accuracy =  0.508177570093458\n",
            "EPOCH : 16\n",
            "Loss =  0.6930611646528184\n",
            "Accuracy =  0.508177570093458\n",
            "EPOCH : 17\n",
            "Traceback (most recent call last):\n",
            "  File \"training.py\", line 102, in <module>\n",
            "    fit (EPOCHS)\n",
            "  File \"training.py\", line 60, in fit\n",
            "    loss_, out = train_step (tf.expand_dims (image, axis=0), label=label, epoch=epoch)\n",
            "  File \"/usr/local/lib/python3.6/dist-packages/tensorflow/python/eager/def_function.py\", line 580, in __call__\n",
            "    result = self._call(*args, **kwds)\n",
            "  File \"/usr/local/lib/python3.6/dist-packages/tensorflow/python/eager/def_function.py\", line 611, in _call\n",
            "    return self._stateless_fn(*args, **kwds)  # pylint: disable=not-callable\n",
            "  File \"/usr/local/lib/python3.6/dist-packages/tensorflow/python/eager/function.py\", line 2420, in __call__\n",
            "    return graph_function._filtered_call(args, kwargs)  # pylint: disable=protected-access\n",
            "  File \"/usr/local/lib/python3.6/dist-packages/tensorflow/python/eager/function.py\", line 1665, in _filtered_call\n",
            "    self.captured_inputs)\n",
            "  File \"/usr/local/lib/python3.6/dist-packages/tensorflow/python/eager/function.py\", line 1746, in _call_flat\n",
            "    ctx, args, cancellation_manager=cancellation_manager))\n",
            "  File \"/usr/local/lib/python3.6/dist-packages/tensorflow/python/eager/function.py\", line 598, in call\n",
            "    ctx=ctx)\n",
            "  File \"/usr/local/lib/python3.6/dist-packages/tensorflow/python/eager/execute.py\", line 60, in quick_execute\n",
            "    inputs, attrs, num_outputs)\n",
            "KeyboardInterrupt\n"
          ],
          "name": "stdout"
        },
        {
          "output_type": "error",
          "ename": "KeyboardInterrupt",
          "evalue": "ignored",
          "traceback": [
            "\u001b[0;31m---------------------------------------------------------------------------\u001b[0m",
            "\u001b[0;31mKeyboardInterrupt\u001b[0m                         Traceback (most recent call last)",
            "\u001b[0;32m<ipython-input-22-e6a2652c0719>\u001b[0m in \u001b[0;36m<module>\u001b[0;34m()\u001b[0m\n\u001b[1;32m      1\u001b[0m \u001b[0;32mimport\u001b[0m \u001b[0mos\u001b[0m\u001b[0;34m\u001b[0m\u001b[0;34m\u001b[0m\u001b[0m\n\u001b[1;32m      2\u001b[0m \u001b[0mos\u001b[0m\u001b[0;34m.\u001b[0m\u001b[0mchdir\u001b[0m\u001b[0;34m(\u001b[0m\u001b[0;34m\"/content/drive/My Drive/Aug/\"\u001b[0m\u001b[0;34m)\u001b[0m\u001b[0;34m\u001b[0m\u001b[0;34m\u001b[0m\u001b[0m\n\u001b[0;32m----> 3\u001b[0;31m \u001b[0mget_ipython\u001b[0m\u001b[0;34m(\u001b[0m\u001b[0;34m)\u001b[0m\u001b[0;34m.\u001b[0m\u001b[0msystem\u001b[0m\u001b[0;34m(\u001b[0m\u001b[0;34m'python3 training.py'\u001b[0m\u001b[0;34m)\u001b[0m\u001b[0;34m\u001b[0m\u001b[0;34m\u001b[0m\u001b[0m\n\u001b[0m",
            "\u001b[0;32m/usr/local/lib/python3.6/dist-packages/google/colab/_shell.py\u001b[0m in \u001b[0;36msystem\u001b[0;34m(self, *args, **kwargs)\u001b[0m\n\u001b[1;32m    100\u001b[0m       \u001b[0mkwargs\u001b[0m\u001b[0;34m.\u001b[0m\u001b[0mupdate\u001b[0m\u001b[0;34m(\u001b[0m\u001b[0;34m{\u001b[0m\u001b[0;34m'also_return_output'\u001b[0m\u001b[0;34m:\u001b[0m \u001b[0;32mTrue\u001b[0m\u001b[0;34m}\u001b[0m\u001b[0;34m)\u001b[0m\u001b[0;34m\u001b[0m\u001b[0;34m\u001b[0m\u001b[0m\n\u001b[1;32m    101\u001b[0m \u001b[0;34m\u001b[0m\u001b[0m\n\u001b[0;32m--> 102\u001b[0;31m     \u001b[0moutput\u001b[0m \u001b[0;34m=\u001b[0m \u001b[0m_system_commands\u001b[0m\u001b[0;34m.\u001b[0m\u001b[0m_system_compat\u001b[0m\u001b[0;34m(\u001b[0m\u001b[0mself\u001b[0m\u001b[0;34m,\u001b[0m \u001b[0;34m*\u001b[0m\u001b[0margs\u001b[0m\u001b[0;34m,\u001b[0m \u001b[0;34m**\u001b[0m\u001b[0mkwargs\u001b[0m\u001b[0;34m)\u001b[0m  \u001b[0;31m# pylint:disable=protected-access\u001b[0m\u001b[0;34m\u001b[0m\u001b[0;34m\u001b[0m\u001b[0m\n\u001b[0m\u001b[1;32m    103\u001b[0m \u001b[0;34m\u001b[0m\u001b[0m\n\u001b[1;32m    104\u001b[0m     \u001b[0;32mif\u001b[0m \u001b[0mpip_warn\u001b[0m\u001b[0;34m:\u001b[0m\u001b[0;34m\u001b[0m\u001b[0;34m\u001b[0m\u001b[0m\n",
            "\u001b[0;32m/usr/local/lib/python3.6/dist-packages/google/colab/_system_commands.py\u001b[0m in \u001b[0;36m_system_compat\u001b[0;34m(shell, cmd, also_return_output)\u001b[0m\n\u001b[1;32m    436\u001b[0m   \u001b[0;31m# stack.\u001b[0m\u001b[0;34m\u001b[0m\u001b[0;34m\u001b[0m\u001b[0;34m\u001b[0m\u001b[0m\n\u001b[1;32m    437\u001b[0m   result = _run_command(\n\u001b[0;32m--> 438\u001b[0;31m       shell.var_expand(cmd, depth=2), clear_streamed_output=False)\n\u001b[0m\u001b[1;32m    439\u001b[0m   \u001b[0mshell\u001b[0m\u001b[0;34m.\u001b[0m\u001b[0muser_ns\u001b[0m\u001b[0;34m[\u001b[0m\u001b[0;34m'_exit_code'\u001b[0m\u001b[0;34m]\u001b[0m \u001b[0;34m=\u001b[0m \u001b[0mresult\u001b[0m\u001b[0;34m.\u001b[0m\u001b[0mreturncode\u001b[0m\u001b[0;34m\u001b[0m\u001b[0;34m\u001b[0m\u001b[0m\n\u001b[1;32m    440\u001b[0m   \u001b[0;32mif\u001b[0m \u001b[0;34m-\u001b[0m\u001b[0mresult\u001b[0m\u001b[0;34m.\u001b[0m\u001b[0mreturncode\u001b[0m \u001b[0;32min\u001b[0m \u001b[0m_INTERRUPTED_SIGNALS\u001b[0m\u001b[0;34m:\u001b[0m\u001b[0;34m\u001b[0m\u001b[0;34m\u001b[0m\u001b[0m\n",
            "\u001b[0;32m/usr/local/lib/python3.6/dist-packages/google/colab/_system_commands.py\u001b[0m in \u001b[0;36m_run_command\u001b[0;34m(cmd, clear_streamed_output)\u001b[0m\n\u001b[1;32m    193\u001b[0m       \u001b[0mos\u001b[0m\u001b[0;34m.\u001b[0m\u001b[0mclose\u001b[0m\u001b[0;34m(\u001b[0m\u001b[0mchild_pty\u001b[0m\u001b[0;34m)\u001b[0m\u001b[0;34m\u001b[0m\u001b[0;34m\u001b[0m\u001b[0m\n\u001b[1;32m    194\u001b[0m \u001b[0;34m\u001b[0m\u001b[0m\n\u001b[0;32m--> 195\u001b[0;31m       \u001b[0;32mreturn\u001b[0m \u001b[0m_monitor_process\u001b[0m\u001b[0;34m(\u001b[0m\u001b[0mparent_pty\u001b[0m\u001b[0;34m,\u001b[0m \u001b[0mepoll\u001b[0m\u001b[0;34m,\u001b[0m \u001b[0mp\u001b[0m\u001b[0;34m,\u001b[0m \u001b[0mcmd\u001b[0m\u001b[0;34m,\u001b[0m \u001b[0mupdate_stdin_widget\u001b[0m\u001b[0;34m)\u001b[0m\u001b[0;34m\u001b[0m\u001b[0;34m\u001b[0m\u001b[0m\n\u001b[0m\u001b[1;32m    196\u001b[0m   \u001b[0;32mfinally\u001b[0m\u001b[0;34m:\u001b[0m\u001b[0;34m\u001b[0m\u001b[0;34m\u001b[0m\u001b[0m\n\u001b[1;32m    197\u001b[0m     \u001b[0mepoll\u001b[0m\u001b[0;34m.\u001b[0m\u001b[0mclose\u001b[0m\u001b[0;34m(\u001b[0m\u001b[0;34m)\u001b[0m\u001b[0;34m\u001b[0m\u001b[0;34m\u001b[0m\u001b[0m\n",
            "\u001b[0;32m/usr/lib/python3.6/contextlib.py\u001b[0m in \u001b[0;36m__exit__\u001b[0;34m(self, type, value, traceback)\u001b[0m\n\u001b[1;32m     86\u001b[0m         \u001b[0;32mif\u001b[0m \u001b[0mtype\u001b[0m \u001b[0;32mis\u001b[0m \u001b[0;32mNone\u001b[0m\u001b[0;34m:\u001b[0m\u001b[0;34m\u001b[0m\u001b[0;34m\u001b[0m\u001b[0m\n\u001b[1;32m     87\u001b[0m             \u001b[0;32mtry\u001b[0m\u001b[0;34m:\u001b[0m\u001b[0;34m\u001b[0m\u001b[0;34m\u001b[0m\u001b[0m\n\u001b[0;32m---> 88\u001b[0;31m                 \u001b[0mnext\u001b[0m\u001b[0;34m(\u001b[0m\u001b[0mself\u001b[0m\u001b[0;34m.\u001b[0m\u001b[0mgen\u001b[0m\u001b[0;34m)\u001b[0m\u001b[0;34m\u001b[0m\u001b[0;34m\u001b[0m\u001b[0m\n\u001b[0m\u001b[1;32m     89\u001b[0m             \u001b[0;32mexcept\u001b[0m \u001b[0mStopIteration\u001b[0m\u001b[0;34m:\u001b[0m\u001b[0;34m\u001b[0m\u001b[0;34m\u001b[0m\u001b[0m\n\u001b[1;32m     90\u001b[0m                 \u001b[0;32mreturn\u001b[0m \u001b[0;32mFalse\u001b[0m\u001b[0;34m\u001b[0m\u001b[0;34m\u001b[0m\u001b[0m\n",
            "\u001b[0;32m/usr/local/lib/python3.6/dist-packages/google/colab/_system_commands.py\u001b[0m in \u001b[0;36m_display_stdin_widget\u001b[0;34m(delay_millis)\u001b[0m\n\u001b[1;32m    353\u001b[0m \u001b[0;34m\u001b[0m\u001b[0m\n\u001b[1;32m    354\u001b[0m   \u001b[0mhide_args\u001b[0m \u001b[0;34m=\u001b[0m \u001b[0;34m[\u001b[0m\u001b[0;34m'cell_remove_stdin'\u001b[0m\u001b[0;34m,\u001b[0m \u001b[0;34m{\u001b[0m\u001b[0;34m}\u001b[0m\u001b[0;34m]\u001b[0m\u001b[0;34m\u001b[0m\u001b[0;34m\u001b[0m\u001b[0m\n\u001b[0;32m--> 355\u001b[0;31m   \u001b[0m_message\u001b[0m\u001b[0;34m.\u001b[0m\u001b[0mblocking_request\u001b[0m\u001b[0;34m(\u001b[0m\u001b[0;34m*\u001b[0m\u001b[0mhide_args\u001b[0m\u001b[0;34m,\u001b[0m \u001b[0mparent\u001b[0m\u001b[0;34m=\u001b[0m\u001b[0mshell\u001b[0m\u001b[0;34m.\u001b[0m\u001b[0mparent_header\u001b[0m\u001b[0;34m)\u001b[0m\u001b[0;34m\u001b[0m\u001b[0;34m\u001b[0m\u001b[0m\n\u001b[0m\u001b[1;32m    356\u001b[0m \u001b[0;34m\u001b[0m\u001b[0m\n\u001b[1;32m    357\u001b[0m \u001b[0;34m\u001b[0m\u001b[0m\n",
            "\u001b[0;32m/usr/local/lib/python3.6/dist-packages/google/colab/_message.py\u001b[0m in \u001b[0;36mblocking_request\u001b[0;34m(request_type, request, timeout_sec, parent)\u001b[0m\n\u001b[1;32m    169\u001b[0m   \u001b[0;31m# unique.\u001b[0m\u001b[0;34m\u001b[0m\u001b[0;34m\u001b[0m\u001b[0;34m\u001b[0m\u001b[0m\n\u001b[1;32m    170\u001b[0m   \u001b[0mrequest_id\u001b[0m \u001b[0;34m=\u001b[0m \u001b[0msend_request\u001b[0m\u001b[0;34m(\u001b[0m\u001b[0mrequest_type\u001b[0m\u001b[0;34m,\u001b[0m \u001b[0mrequest\u001b[0m\u001b[0;34m,\u001b[0m \u001b[0mparent\u001b[0m\u001b[0;34m=\u001b[0m\u001b[0mparent\u001b[0m\u001b[0;34m)\u001b[0m\u001b[0;34m\u001b[0m\u001b[0;34m\u001b[0m\u001b[0m\n\u001b[0;32m--> 171\u001b[0;31m   \u001b[0;32mreturn\u001b[0m \u001b[0mread_reply_from_input\u001b[0m\u001b[0;34m(\u001b[0m\u001b[0mrequest_id\u001b[0m\u001b[0;34m,\u001b[0m \u001b[0mtimeout_sec\u001b[0m\u001b[0;34m)\u001b[0m\u001b[0;34m\u001b[0m\u001b[0;34m\u001b[0m\u001b[0m\n\u001b[0m",
            "\u001b[0;32m/usr/local/lib/python3.6/dist-packages/google/colab/_message.py\u001b[0m in \u001b[0;36mread_reply_from_input\u001b[0;34m(message_id, timeout_sec)\u001b[0m\n\u001b[1;32m     99\u001b[0m     \u001b[0mreply\u001b[0m \u001b[0;34m=\u001b[0m \u001b[0m_read_next_input_message\u001b[0m\u001b[0;34m(\u001b[0m\u001b[0;34m)\u001b[0m\u001b[0;34m\u001b[0m\u001b[0;34m\u001b[0m\u001b[0m\n\u001b[1;32m    100\u001b[0m     \u001b[0;32mif\u001b[0m \u001b[0mreply\u001b[0m \u001b[0;34m==\u001b[0m \u001b[0m_NOT_READY\u001b[0m \u001b[0;32mor\u001b[0m \u001b[0;32mnot\u001b[0m \u001b[0misinstance\u001b[0m\u001b[0;34m(\u001b[0m\u001b[0mreply\u001b[0m\u001b[0;34m,\u001b[0m \u001b[0mdict\u001b[0m\u001b[0;34m)\u001b[0m\u001b[0;34m:\u001b[0m\u001b[0;34m\u001b[0m\u001b[0;34m\u001b[0m\u001b[0m\n\u001b[0;32m--> 101\u001b[0;31m       \u001b[0mtime\u001b[0m\u001b[0;34m.\u001b[0m\u001b[0msleep\u001b[0m\u001b[0;34m(\u001b[0m\u001b[0;36m0.025\u001b[0m\u001b[0;34m)\u001b[0m\u001b[0;34m\u001b[0m\u001b[0;34m\u001b[0m\u001b[0m\n\u001b[0m\u001b[1;32m    102\u001b[0m       \u001b[0;32mcontinue\u001b[0m\u001b[0;34m\u001b[0m\u001b[0;34m\u001b[0m\u001b[0m\n\u001b[1;32m    103\u001b[0m     if (reply.get('type') == 'colab_reply' and\n",
            "\u001b[0;31mKeyboardInterrupt\u001b[0m: "
          ]
        }
      ]
    },
    {
      "cell_type": "code",
      "metadata": {
        "id": "9X6z0aRn1cUC",
        "colab_type": "code",
        "colab": {}
      },
      "source": [
        "from fastai.vision import *\n",
        "from fastai.metrics import accuracy\n"
      ],
      "execution_count": 4,
      "outputs": []
    },
    {
      "cell_type": "code",
      "metadata": {
        "id": "wmytBWvv1fTt",
        "colab_type": "code",
        "colab": {}
      },
      "source": [
        "path =  \"/content/drive/My Drive/Aug/classify\"\n",
        "size = 224\n",
        "bs = 64"
      ],
      "execution_count": 5,
      "outputs": []
    },
    {
      "cell_type": "code",
      "metadata": {
        "id": "_SGvcnUK1hvd",
        "colab_type": "code",
        "colab": {}
      },
      "source": [
        "data = ImageDataBunch.from_folder(path, \n",
        "                                  ds_tfms=get_transforms(do_flip=True, flip_vert=True),\n",
        "                                  valid_pct=0.2, \n",
        "                                  size=size, \n",
        "                                  bs=bs)"
      ],
      "execution_count": 6,
      "outputs": []
    },
    {
      "cell_type": "code",
      "metadata": {
        "id": "eJ9Ejzxi1me2",
        "colab_type": "code",
        "colab": {
          "base_uri": "https://localhost:8080/",
          "height": 302
        },
        "outputId": "47765b89-8f9c-4d30-fb78-a654c10d96a6"
      },
      "source": [
        "data.normalize(imagenet_stats)"
      ],
      "execution_count": 7,
      "outputs": [
        {
          "output_type": "execute_result",
          "data": {
            "text/plain": [
              "ImageDataBunch;\n",
              "\n",
              "Train: LabelList (2055 items)\n",
              "x: ImageList\n",
              "Image (3, 224, 224),Image (3, 224, 224),Image (3, 224, 224),Image (3, 224, 224),Image (3, 224, 224)\n",
              "y: CategoryList\n",
              "Sedan_data,Sedan_data,Sedan_data,Sedan_data,Sedan_data\n",
              "Path: /content/drive/My Drive/Aug/classify;\n",
              "\n",
              "Valid: LabelList (513 items)\n",
              "x: ImageList\n",
              "Image (3, 224, 224),Image (3, 224, 224),Image (3, 224, 224),Image (3, 224, 224),Image (3, 224, 224)\n",
              "y: CategoryList\n",
              "SUV_data,Sedan_data,SUV_data,Sedan_data,Sedan_data\n",
              "Path: /content/drive/My Drive/Aug/classify;\n",
              "\n",
              "Test: None"
            ]
          },
          "metadata": {
            "tags": []
          },
          "execution_count": 7
        }
      ]
    },
    {
      "cell_type": "code",
      "metadata": {
        "id": "zF8GwdYw1pdE",
        "colab_type": "code",
        "colab": {
          "base_uri": "https://localhost:8080/",
          "height": 217,
          "referenced_widgets": [
            "a32586462478407bbb5454c58a933918",
            "62653c9af83844d88481416d7c48719a",
            "aed59f4ae0e942cb91f7f6bd5810871f",
            "f0617814089f4220b5d6efcc5dbf3db9",
            "fe7956eb7e1e4147a61afbc5a4d840f2",
            "7f4f61d75adc4f998dd448174541b8fc",
            "65e0e12646654f26b97082f28c46293b",
            "0611476cb56c46c8ba2397d0265648b7"
          ]
        },
        "outputId": "c8ac0d2b-4ab9-4a17-c339-83324a840a08"
      },
      "source": [
        "learner = create_cnn(data, models.resnet18, metrics=[accuracy], callback_fns=ShowGraph)"
      ],
      "execution_count": 8,
      "outputs": [
        {
          "output_type": "stream",
          "text": [
            "/usr/local/lib/python3.6/dist-packages/fastai/vision/learner.py:109: UserWarning: `create_cnn` is deprecated and is now named `cnn_learner`.\n",
            "  warn(\"`create_cnn` is deprecated and is now named `cnn_learner`.\")\n",
            "Downloading: \"https://download.pytorch.org/models/resnet18-5c106cde.pth\" to /root/.cache/torch/hub/checkpoints/resnet18-5c106cde.pth\n"
          ],
          "name": "stderr"
        },
        {
          "output_type": "display_data",
          "data": {
            "application/vnd.jupyter.widget-view+json": {
              "model_id": "a32586462478407bbb5454c58a933918",
              "version_minor": 0,
              "version_major": 2
            },
            "text/plain": [
              "HBox(children=(FloatProgress(value=0.0, max=46827520.0), HTML(value='')))"
            ]
          },
          "metadata": {
            "tags": []
          }
        },
        {
          "output_type": "stream",
          "text": [
            "\n"
          ],
          "name": "stdout"
        },
        {
          "output_type": "stream",
          "text": [
            "/usr/local/lib/python3.6/dist-packages/torch/cuda/__init__.py:125: UserWarning: \n",
            "Tesla T4 with CUDA capability sm_75 is not compatible with the current PyTorch installation.\n",
            "The current PyTorch install supports CUDA capabilities sm_37 sm_50 sm_60 sm_70.\n",
            "If you want to use the Tesla T4 GPU with PyTorch, please check the instructions at https://pytorch.org/get-started/locally/\n",
            "\n",
            "  warnings.warn(incompatible_device_warn.format(device_name, capability, \" \".join(arch_list), device_name))\n"
          ],
          "name": "stderr"
        }
      ]
    },
    {
      "cell_type": "code",
      "metadata": {
        "id": "1Nar-fNQ1sTB",
        "colab_type": "code",
        "colab": {
          "base_uri": "https://localhost:8080/",
          "height": 431
        },
        "outputId": "ae643e6a-aba1-42d7-b5f4-f7920e09e010"
      },
      "source": [
        "learner.lr_find()\n",
        "learner.recorder.plot()"
      ],
      "execution_count": 9,
      "outputs": [
        {
          "output_type": "display_data",
          "data": {
            "text/html": [
              "\n",
              "    <div>\n",
              "        <style>\n",
              "            /* Turns off some styling */\n",
              "            progress {\n",
              "                /* gets rid of default border in Firefox and Opera. */\n",
              "                border: none;\n",
              "                /* Needs to be in here for Safari polyfill so background images work as expected. */\n",
              "                background-size: auto;\n",
              "            }\n",
              "            .progress-bar-interrupted, .progress-bar-interrupted::-webkit-progress-bar {\n",
              "                background: #F44336;\n",
              "            }\n",
              "        </style>\n",
              "      <progress value='2' class='' max='4' style='width:300px; height:20px; vertical-align: middle;'></progress>\n",
              "      50.00% [2/4 09:38<09:38]\n",
              "    </div>\n",
              "    \n",
              "<table border=\"1\" class=\"dataframe\">\n",
              "  <thead>\n",
              "    <tr style=\"text-align: left;\">\n",
              "      <th>epoch</th>\n",
              "      <th>train_loss</th>\n",
              "      <th>valid_loss</th>\n",
              "      <th>accuracy</th>\n",
              "      <th>time</th>\n",
              "    </tr>\n",
              "  </thead>\n",
              "  <tbody>\n",
              "    <tr>\n",
              "      <td>0</td>\n",
              "      <td>1.303549</td>\n",
              "      <td>#na#</td>\n",
              "      <td>09:12</td>\n",
              "    </tr>\n",
              "    <tr>\n",
              "      <td>1</td>\n",
              "      <td>1.207093</td>\n",
              "      <td>#na#</td>\n",
              "      <td>00:26</td>\n",
              "    </tr>\n",
              "  </tbody>\n",
              "</table><p>\n",
              "\n",
              "    <div>\n",
              "        <style>\n",
              "            /* Turns off some styling */\n",
              "            progress {\n",
              "                /* gets rid of default border in Firefox and Opera. */\n",
              "                border: none;\n",
              "                /* Needs to be in here for Safari polyfill so background images work as expected. */\n",
              "                background-size: auto;\n",
              "            }\n",
              "            .progress-bar-interrupted, .progress-bar-interrupted::-webkit-progress-bar {\n",
              "                background: #F44336;\n",
              "            }\n",
              "        </style>\n",
              "      <progress value='26' class='' max='32' style='width:300px; height:20px; vertical-align: middle;'></progress>\n",
              "      81.25% [26/32 00:20<00:04 4.4500]\n",
              "    </div>\n",
              "    "
            ],
            "text/plain": [
              "<IPython.core.display.HTML object>"
            ]
          },
          "metadata": {
            "tags": []
          }
        },
        {
          "output_type": "stream",
          "text": [
            "LR Finder is complete, type {learner_name}.recorder.plot() to see the graph.\n"
          ],
          "name": "stdout"
        },
        {
          "output_type": "display_data",
          "data": {
            "image/png": "[encoded data removed]",
            "text/plain": [
              "<Figure size 432x288 with 1 Axes>"
            ]
          },
          "metadata": {
            "tags": [],
            "needs_background": "light"
          }
        }
      ]
    },
    {
      "cell_type": "code",
      "metadata": {
        "id": "8rjgwuFm3gg3",
        "colab_type": "code",
        "colab": {
          "base_uri": "https://localhost:8080/",
          "height": 532
        },
        "outputId": "b596a1d6-3dff-4b5e-ed15-b79fff12df7f"
      },
      "source": [
        "learner.fit_one_cycle(8, max_lr=slice(1e-04 , 1e-02 ))"
      ],
      "execution_count": 10,
      "outputs": [
        {
          "output_type": "display_data",
          "data": {
            "text/html": [
              "<table border=\"1\" class=\"dataframe\">\n",
              "  <thead>\n",
              "    <tr style=\"text-align: left;\">\n",
              "      <th>epoch</th>\n",
              "      <th>train_loss</th>\n",
              "      <th>valid_loss</th>\n",
              "      <th>accuracy</th>\n",
              "      <th>time</th>\n",
              "    </tr>\n",
              "  </thead>\n",
              "  <tbody>\n",
              "    <tr>\n",
              "      <td>0</td>\n",
              "      <td>1.135224</td>\n",
              "      <td>0.684075</td>\n",
              "      <td>0.713450</td>\n",
              "      <td>02:53</td>\n",
              "    </tr>\n",
              "    <tr>\n",
              "      <td>1</td>\n",
              "      <td>0.965056</td>\n",
              "      <td>0.599782</td>\n",
              "      <td>0.721248</td>\n",
              "      <td>00:27</td>\n",
              "    </tr>\n",
              "    <tr>\n",
              "      <td>2</td>\n",
              "      <td>0.834278</td>\n",
              "      <td>0.697595</td>\n",
              "      <td>0.693957</td>\n",
              "      <td>00:27</td>\n",
              "    </tr>\n",
              "    <tr>\n",
              "      <td>3</td>\n",
              "      <td>0.761434</td>\n",
              "      <td>0.530894</td>\n",
              "      <td>0.756335</td>\n",
              "      <td>00:27</td>\n",
              "    </tr>\n",
              "    <tr>\n",
              "      <td>4</td>\n",
              "      <td>0.690229</td>\n",
              "      <td>0.568003</td>\n",
              "      <td>0.721248</td>\n",
              "      <td>00:28</td>\n",
              "    </tr>\n",
              "    <tr>\n",
              "      <td>5</td>\n",
              "      <td>0.646084</td>\n",
              "      <td>0.510873</td>\n",
              "      <td>0.732943</td>\n",
              "      <td>00:28</td>\n",
              "    </tr>\n",
              "    <tr>\n",
              "      <td>6</td>\n",
              "      <td>0.582645</td>\n",
              "      <td>0.446267</td>\n",
              "      <td>0.783626</td>\n",
              "      <td>00:28</td>\n",
              "    </tr>\n",
              "    <tr>\n",
              "      <td>7</td>\n",
              "      <td>0.541887</td>\n",
              "      <td>0.437364</td>\n",
              "      <td>0.797271</td>\n",
              "      <td>00:28</td>\n",
              "    </tr>\n",
              "  </tbody>\n",
              "</table>"
            ],
            "text/plain": [
              "<IPython.core.display.HTML object>"
            ]
          },
          "metadata": {
            "tags": []
          }
        },
        {
          "output_type": "display_data",
          "data": {
            "image/png": "[encoded data removed]",
            "text/plain": [
              "<Figure size 432x288 with 1 Axes>"
            ]
          },
          "metadata": {
            "tags": []
          }
        }
      ]
    },
    {
      "cell_type": "code",
      "metadata": {
        "id": "wYOuOm1HCMhS",
        "colab_type": "code",
        "colab": {}
      },
      "source": [
        "learn.save('one-epoch')"
      ],
      "execution_count": 17,
      "outputs": []
    },
    {
      "cell_type": "code",
      "metadata": {
        "id": "XdCBqcMyAzQp",
        "colab_type": "code",
        "colab": {
          "base_uri": "https://localhost:8080/",
          "height": 117
        },
        "outputId": "3c048a75-d5fc-4f92-c8e8-a7e87c751705"
      },
      "source": [
        "path =  \"/content/drive/My Drive/Aug/classify/test\"\n",
        "img = open_image(get_image_files(path)[0])\n",
        "img.show()"
      ],
      "execution_count": 25,
      "outputs": [
        {
          "output_type": "display_data",
          "data": {
            "image/png": "[encoded data removed]",
            "text/plain": [
              "<Figure size 216x216 with 1 Axes>"
            ]
          },
          "metadata": {
            "tags": [],
            "needs_background": "light"
          }
        }
      ]
    },
    {
      "cell_type": "code",
      "metadata": {
        "id": "yU91iHdbCWA8",
        "colab_type": "code",
        "colab": {
          "base_uri": "https://localhost:8080/",
          "height": 34
        },
        "outputId": "8c275455-fbd0-4379-8445-5e105061c43d"
      },
      "source": [
        "learn.load('one-epoch')\n",
        "pred_class,pred_idx,outputs = learn.predict(img)\n",
        "pred_class\n",
        "outputs"
      ],
      "execution_count": 26,
      "outputs": [
        {
          "output_type": "execute_result",
          "data": {
            "text/plain": [
              "tensor([0.0279, 0.9721])"
            ]
          },
          "metadata": {
            "tags": []
          },
          "execution_count": 26
        }
      ]
    }
  ]
}